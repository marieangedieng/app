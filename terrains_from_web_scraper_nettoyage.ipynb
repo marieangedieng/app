{
 "cells": [
  {
   "cell_type": "code",
   "execution_count": 2,
   "metadata": {},
   "outputs": [],
   "source": [
    "import pandas as pd"
   ]
  },
  {
   "cell_type": "code",
   "execution_count": 3,
   "metadata": {},
   "outputs": [],
   "source": [
    "df = pd.read_csv('terrains_web.csv')"
   ]
  },
  {
   "cell_type": "code",
   "execution_count": 4,
   "metadata": {},
   "outputs": [
    {
     "data": {
      "text/html": [
       "<div>\n",
       "<style scoped>\n",
       "    .dataframe tbody tr th:only-of-type {\n",
       "        vertical-align: middle;\n",
       "    }\n",
       "\n",
       "    .dataframe tbody tr th {\n",
       "        vertical-align: top;\n",
       "    }\n",
       "\n",
       "    .dataframe thead th {\n",
       "        text-align: right;\n",
       "    }\n",
       "</style>\n",
       "<table border=\"1\" class=\"dataframe\">\n",
       "  <thead>\n",
       "    <tr style=\"text-align: right;\">\n",
       "      <th></th>\n",
       "      <th>Field1_links</th>\n",
       "      <th>image_url</th>\n",
       "      <th>superficie</th>\n",
       "      <th>prix</th>\n",
       "      <th>adresse</th>\n",
       "    </tr>\n",
       "  </thead>\n",
       "  <tbody>\n",
       "    <tr>\n",
       "      <th>0</th>\n",
       "      <td>https://sn.coinafrique.com/annonce/terrains/ve...</td>\n",
       "      <td>https://images.coinafrique.com/thumb_4817195_u...</td>\n",
       "      <td>150</td>\n",
       "      <td>6 000 000 CFA</td>\n",
       "      <td>Diamniadio, Sénégal</td>\n",
       "    </tr>\n",
       "    <tr>\n",
       "      <th>1</th>\n",
       "      <td>https://sn.coinafrique.com/annonce/terrains/te...</td>\n",
       "      <td>https://images.coinafrique.com/thumb_4777135_u...</td>\n",
       "      <td>500 m2</td>\n",
       "      <td>20 000 000 CFA</td>\n",
       "      <td>Mbao, Dakar, Sénégal</td>\n",
       "    </tr>\n",
       "    <tr>\n",
       "      <th>2</th>\n",
       "      <td>https://sn.coinafrique.com/annonce/terrains/te...</td>\n",
       "      <td>https://images.coinafrique.com/thumb_4815887_u...</td>\n",
       "      <td>150 m2</td>\n",
       "      <td>25 000 000 CFA</td>\n",
       "      <td>Mbao, Dakar, Sénégal</td>\n",
       "    </tr>\n",
       "    <tr>\n",
       "      <th>3</th>\n",
       "      <td>https://sn.coinafrique.com/annonce/terrains/te...</td>\n",
       "      <td>https://images.coinafrique.com/thumb_4815828_u...</td>\n",
       "      <td>150</td>\n",
       "      <td>4 000 000 CFA</td>\n",
       "      <td>Keur Massar, Sénégal</td>\n",
       "    </tr>\n",
       "    <tr>\n",
       "      <th>4</th>\n",
       "      <td>https://sn.coinafrique.com/annonce/terrains/te...</td>\n",
       "      <td>https://images.coinafrique.com/thumb_4815324_u...</td>\n",
       "      <td>180</td>\n",
       "      <td>4 500 000 CFA</td>\n",
       "      <td>Dakar, Sénégal</td>\n",
       "    </tr>\n",
       "  </tbody>\n",
       "</table>\n",
       "</div>"
      ],
      "text/plain": [
       "                                        Field1_links  \\\n",
       "0  https://sn.coinafrique.com/annonce/terrains/ve...   \n",
       "1  https://sn.coinafrique.com/annonce/terrains/te...   \n",
       "2  https://sn.coinafrique.com/annonce/terrains/te...   \n",
       "3  https://sn.coinafrique.com/annonce/terrains/te...   \n",
       "4  https://sn.coinafrique.com/annonce/terrains/te...   \n",
       "\n",
       "                                           image_url superficie  \\\n",
       "0  https://images.coinafrique.com/thumb_4817195_u...       150    \n",
       "1  https://images.coinafrique.com/thumb_4777135_u...     500 m2   \n",
       "2  https://images.coinafrique.com/thumb_4815887_u...     150 m2   \n",
       "3  https://images.coinafrique.com/thumb_4815828_u...       150    \n",
       "4  https://images.coinafrique.com/thumb_4815324_u...       180    \n",
       "\n",
       "             prix               adresse  \n",
       "0   6 000 000 CFA   Diamniadio, Sénégal  \n",
       "1  20 000 000 CFA  Mbao, Dakar, Sénégal  \n",
       "2  25 000 000 CFA  Mbao, Dakar, Sénégal  \n",
       "3   4 000 000 CFA  Keur Massar, Sénégal  \n",
       "4   4 500 000 CFA        Dakar, Sénégal  "
      ]
     },
     "execution_count": 4,
     "metadata": {},
     "output_type": "execute_result"
    }
   ],
   "source": [
    "df.head()"
   ]
  },
  {
   "cell_type": "code",
   "execution_count": 5,
   "metadata": {},
   "outputs": [
    {
     "data": {
      "text/html": [
       "<div>\n",
       "<style scoped>\n",
       "    .dataframe tbody tr th:only-of-type {\n",
       "        vertical-align: middle;\n",
       "    }\n",
       "\n",
       "    .dataframe tbody tr th {\n",
       "        vertical-align: top;\n",
       "    }\n",
       "\n",
       "    .dataframe thead th {\n",
       "        text-align: right;\n",
       "    }\n",
       "</style>\n",
       "<table border=\"1\" class=\"dataframe\">\n",
       "  <thead>\n",
       "    <tr style=\"text-align: right;\">\n",
       "      <th></th>\n",
       "      <th>Field1_links</th>\n",
       "      <th>image_url</th>\n",
       "      <th>superficie</th>\n",
       "      <th>prix</th>\n",
       "      <th>adresse</th>\n",
       "    </tr>\n",
       "  </thead>\n",
       "  <tbody>\n",
       "    <tr>\n",
       "      <th>count</th>\n",
       "      <td>9323</td>\n",
       "      <td>9323</td>\n",
       "      <td>8677</td>\n",
       "      <td>9271</td>\n",
       "      <td>9271</td>\n",
       "    </tr>\n",
       "    <tr>\n",
       "      <th>unique</th>\n",
       "      <td>9323</td>\n",
       "      <td>9323</td>\n",
       "      <td>1060</td>\n",
       "      <td>611</td>\n",
       "      <td>93</td>\n",
       "    </tr>\n",
       "    <tr>\n",
       "      <th>top</th>\n",
       "      <td>https://sn.coinafrique.com/annonce/terrains/te...</td>\n",
       "      <td>https://images.coinafrique.com/thumb_4850104_u...</td>\n",
       "      <td>150</td>\n",
       "      <td>Prix sur demande</td>\n",
       "      <td>Dakar, Sénégal</td>\n",
       "    </tr>\n",
       "    <tr>\n",
       "      <th>freq</th>\n",
       "      <td>1</td>\n",
       "      <td>1</td>\n",
       "      <td>1485</td>\n",
       "      <td>681</td>\n",
       "      <td>1418</td>\n",
       "    </tr>\n",
       "  </tbody>\n",
       "</table>\n",
       "</div>"
      ],
      "text/plain": [
       "                                             Field1_links  \\\n",
       "count                                                9323   \n",
       "unique                                               9323   \n",
       "top     https://sn.coinafrique.com/annonce/terrains/te...   \n",
       "freq                                                    1   \n",
       "\n",
       "                                                image_url superficie  \\\n",
       "count                                                9323       8677   \n",
       "unique                                               9323       1060   \n",
       "top     https://images.coinafrique.com/thumb_4850104_u...       150    \n",
       "freq                                                    1       1485   \n",
       "\n",
       "                    prix         adresse  \n",
       "count               9271            9271  \n",
       "unique               611              93  \n",
       "top     Prix sur demande  Dakar, Sénégal  \n",
       "freq                 681            1418  "
      ]
     },
     "execution_count": 5,
     "metadata": {},
     "output_type": "execute_result"
    }
   ],
   "source": [
    "df.describe()"
   ]
  },
  {
   "cell_type": "code",
   "execution_count": 6,
   "metadata": {},
   "outputs": [
    {
     "name": "stdout",
     "output_type": "stream",
     "text": [
      "<class 'pandas.core.frame.DataFrame'>\n",
      "RangeIndex: 9323 entries, 0 to 9322\n",
      "Data columns (total 5 columns):\n",
      " #   Column        Non-Null Count  Dtype \n",
      "---  ------        --------------  ----- \n",
      " 0   Field1_links  9323 non-null   object\n",
      " 1   image_url     9323 non-null   object\n",
      " 2   superficie    8677 non-null   object\n",
      " 3   prix          9271 non-null   object\n",
      " 4   adresse       9271 non-null   object\n",
      "dtypes: object(5)\n",
      "memory usage: 364.3+ KB\n"
     ]
    }
   ],
   "source": [
    "df.info()"
   ]
  },
  {
   "cell_type": "code",
   "execution_count": 7,
   "metadata": {},
   "outputs": [],
   "source": [
    "df['superficie'] = (\n",
    "    df['superficie']\n",
    "    .str.strip()\n",
    "    .str.replace('m2', '', regex=False)\n",
    "    .str.replace(' ', '', regex=False)\n",
    ")\n",
    "df['superficie'] = df['superficie'].astype(float)"
   ]
  },
  {
   "cell_type": "code",
   "execution_count": 9,
   "metadata": {},
   "outputs": [
    {
     "data": {
      "text/plain": [
       "np.int64(681)"
      ]
     },
     "execution_count": 9,
     "metadata": {},
     "output_type": "execute_result"
    }
   ],
   "source": [
    "df['prix'].value_counts().get('Prixsurdemande', 0)"
   ]
  },
  {
   "cell_type": "code",
   "execution_count": 10,
   "metadata": {},
   "outputs": [],
   "source": [
    "df = df[df['prix'] != 'Prixsurdemande']"
   ]
  },
  {
   "cell_type": "code",
   "execution_count": 12,
   "metadata": {},
   "outputs": [],
   "source": [
    "df['prix'] = (\n",
    "    df['prix']\n",
    "    .str.strip()\n",
    "    .str.replace('CFA', '', regex=False)\n",
    "    .str.replace(' ', '', regex=False)\n",
    ")\n",
    "df['prix'] = df['prix'].astype('Int64')"
   ]
  },
  {
   "cell_type": "code",
   "execution_count": 13,
   "metadata": {},
   "outputs": [],
   "source": [
    "df.dropna(subset=['superficie'], inplace=True)"
   ]
  },
  {
   "cell_type": "code",
   "execution_count": 15,
   "metadata": {},
   "outputs": [
    {
     "name": "stdout",
     "output_type": "stream",
     "text": [
      "<class 'pandas.core.frame.DataFrame'>\n",
      "Index: 8114 entries, 0 to 9276\n",
      "Data columns (total 5 columns):\n",
      " #   Column        Non-Null Count  Dtype  \n",
      "---  ------        --------------  -----  \n",
      " 0   Field1_links  8114 non-null   object \n",
      " 1   image_url     8114 non-null   object \n",
      " 2   superficie    8114 non-null   float64\n",
      " 3   prix          8114 non-null   Int64  \n",
      " 4   adresse       8114 non-null   object \n",
      "dtypes: Int64(1), float64(1), object(3)\n",
      "memory usage: 388.3+ KB\n"
     ]
    }
   ],
   "source": [
    "df.info()"
   ]
  },
  {
   "cell_type": "code",
   "execution_count": 16,
   "metadata": {},
   "outputs": [],
   "source": [
    "val_num=df.select_dtypes(include=['float64','Int64']).columns"
   ]
  },
  {
   "cell_type": "code",
   "execution_count": 17,
   "metadata": {},
   "outputs": [],
   "source": [
    "import matplotlib.pyplot as plt\n",
    "import seaborn as sns"
   ]
  },
  {
   "cell_type": "code",
   "execution_count": 18,
   "metadata": {},
   "outputs": [
    {
     "data": {
      "image/png": "[encoded data removed]",
      "text/plain": [
       "<Figure size 800x600 with 1 Axes>"
      ]
     },
     "metadata": {},
     "output_type": "display_data"
    },
    {
     "data": {
      "image/png": "[encoded data removed]",
      "text/plain": [
       "<Figure size 800x600 with 1 Axes>"
      ]
     },
     "metadata": {},
     "output_type": "display_data"
    }
   ],
   "source": [
    "for col in val_num:\n",
    "    plt.figure(figsize=(8,6))\n",
    "    sns.boxplot(y=df[col])\n",
    "    plt.title(f\"Distribution du {col}\")\n",
    "    plt.ylabel(f\"{col}\")\n",
    "    plt.show()"
   ]
  },
  {
   "cell_type": "code",
   "execution_count": 19,
   "metadata": {},
   "outputs": [],
   "source": [
    "#gestion des valeurs abherrantes\n",
    "def remove_outliers(df, column):\n",
    "    Q1 = df[column].quantile(0.25)\n",
    "    Q3 = df[column].quantile(0.75)\n",
    "    IQR = Q3 - Q1\n",
    "    return df[~((df[column] < (Q1 - 1.5 * IQR)) | (df[column] > (Q3 + 1.5 * IQR)))]\n",
    "\n",
    "\n",
    "for col in val_num:\n",
    "    df= remove_outliers(df, col)"
   ]
  },
  {
   "cell_type": "code",
   "execution_count": 20,
   "metadata": {},
   "outputs": [
    {
     "data": {
      "image/png": "[encoded data removed]",
      "text/plain": [
       "<Figure size 800x600 with 1 Axes>"
      ]
     },
     "metadata": {},
     "output_type": "display_data"
    },
    {
     "data": {
      "image/png": "[encoded data removed]",
      "text/plain": [
       "<Figure size 800x600 with 1 Axes>"
      ]
     },
     "metadata": {},
     "output_type": "display_data"
    }
   ],
   "source": [
    "for col in val_num:\n",
    "    plt.figure(figsize=(8,6))\n",
    "    sns.boxplot(y=df[col])\n",
    "    plt.title(f\"Distribution du {col}\")\n",
    "    plt.ylabel(f\"{col}\")\n",
    "    plt.show()"
   ]
  },
  {
   "cell_type": "code",
   "execution_count": 21,
   "metadata": {},
   "outputs": [],
   "source": [
    "df.to_csv('terrains_web_cleaned.csv', index=False)"
   ]
  }
 ],
 "metadata": {
  "kernelspec": {
   "display_name": "Python 3",
   "language": "python",
   "name": "python3"
  },
  "language_info": {
   "codemirror_mode": {
    "name": "ipython",
    "version": 3
   },
   "file_extension": ".py",
   "mimetype": "text/x-python",
   "name": "python",
   "nbconvert_exporter": "python",
   "pygments_lexer": "ipython3",
   "version": "3.12.3"
  }
 },
 "nbformat": 4,
 "nbformat_minor": 2
}
