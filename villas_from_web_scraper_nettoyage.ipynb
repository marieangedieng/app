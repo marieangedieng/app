{
 "cells": [
  {
   "cell_type": "code",
   "execution_count": 79,
   "metadata": {},
   "outputs": [],
   "source": [
    "import pandas as pd"
   ]
  },
  {
   "cell_type": "code",
   "execution_count": 80,
   "metadata": {},
   "outputs": [],
   "source": [
    "df = pd.read_csv('villas_web.csv')"
   ]
  },
  {
   "cell_type": "code",
   "execution_count": 81,
   "metadata": {},
   "outputs": [
    {
     "data": {
      "text/html": [
       "<div>\n",
       "<style scoped>\n",
       "    .dataframe tbody tr th:only-of-type {\n",
       "        vertical-align: middle;\n",
       "    }\n",
       "\n",
       "    .dataframe tbody tr th {\n",
       "        vertical-align: top;\n",
       "    }\n",
       "\n",
       "    .dataframe thead th {\n",
       "        text-align: right;\n",
       "    }\n",
       "</style>\n",
       "<table border=\"1\" class=\"dataframe\">\n",
       "  <thead>\n",
       "    <tr style=\"text-align: right;\">\n",
       "      <th></th>\n",
       "      <th>Field1_links</th>\n",
       "      <th>nb_piece</th>\n",
       "      <th>nb_bains</th>\n",
       "      <th>superficie</th>\n",
       "      <th>adresse</th>\n",
       "    </tr>\n",
       "  </thead>\n",
       "  <tbody>\n",
       "    <tr>\n",
       "      <th>0</th>\n",
       "      <td>https://sn.coinafrique.com/annonce/villas/vent...</td>\n",
       "      <td>3.0</td>\n",
       "      <td>6.0</td>\n",
       "      <td>150</td>\n",
       "      <td>Pikine, Sénégal</td>\n",
       "    </tr>\n",
       "    <tr>\n",
       "      <th>1</th>\n",
       "      <td>https://sn.coinafrique.com/annonce/villas/vent...</td>\n",
       "      <td>NaN</td>\n",
       "      <td>NaN</td>\n",
       "      <td>NaN</td>\n",
       "      <td>Grand Yoff, Dakar, Sénégal</td>\n",
       "    </tr>\n",
       "    <tr>\n",
       "      <th>2</th>\n",
       "      <td>https://sn.coinafrique.com/annonce/villas/vent...</td>\n",
       "      <td>6.0</td>\n",
       "      <td>12.0</td>\n",
       "      <td>240</td>\n",
       "      <td>Guediawaye, Dakar, Sénégal</td>\n",
       "    </tr>\n",
       "    <tr>\n",
       "      <th>3</th>\n",
       "      <td>https://sn.coinafrique.com/annonce/villas/loca...</td>\n",
       "      <td>3.0</td>\n",
       "      <td>6.0</td>\n",
       "      <td>150</td>\n",
       "      <td>Mbao, Dakar, Sénégal</td>\n",
       "    </tr>\n",
       "    <tr>\n",
       "      <th>4</th>\n",
       "      <td>https://sn.coinafrique.com/annonce/villas/loca...</td>\n",
       "      <td>9.0</td>\n",
       "      <td>18.0</td>\n",
       "      <td>300</td>\n",
       "      <td>Saly, Sénégal</td>\n",
       "    </tr>\n",
       "  </tbody>\n",
       "</table>\n",
       "</div>"
      ],
      "text/plain": [
       "                                        Field1_links  nb_piece  nb_bains  \\\n",
       "0  https://sn.coinafrique.com/annonce/villas/vent...       3.0       6.0   \n",
       "1  https://sn.coinafrique.com/annonce/villas/vent...       NaN       NaN   \n",
       "2  https://sn.coinafrique.com/annonce/villas/vent...       6.0      12.0   \n",
       "3  https://sn.coinafrique.com/annonce/villas/loca...       3.0       6.0   \n",
       "4  https://sn.coinafrique.com/annonce/villas/loca...       9.0      18.0   \n",
       "\n",
       "  superficie                     adresse  \n",
       "0       150              Pikine, Sénégal  \n",
       "1        NaN  Grand Yoff, Dakar, Sénégal  \n",
       "2       240   Guediawaye, Dakar, Sénégal  \n",
       "3       150         Mbao, Dakar, Sénégal  \n",
       "4       300                Saly, Sénégal  "
      ]
     },
     "execution_count": 81,
     "metadata": {},
     "output_type": "execute_result"
    }
   ],
   "source": [
    "df.head()"
   ]
  },
  {
   "cell_type": "code",
   "execution_count": 82,
   "metadata": {},
   "outputs": [
    {
     "data": {
      "text/html": [
       "<div>\n",
       "<style scoped>\n",
       "    .dataframe tbody tr th:only-of-type {\n",
       "        vertical-align: middle;\n",
       "    }\n",
       "\n",
       "    .dataframe tbody tr th {\n",
       "        vertical-align: top;\n",
       "    }\n",
       "\n",
       "    .dataframe thead th {\n",
       "        text-align: right;\n",
       "    }\n",
       "</style>\n",
       "<table border=\"1\" class=\"dataframe\">\n",
       "  <thead>\n",
       "    <tr style=\"text-align: right;\">\n",
       "      <th></th>\n",
       "      <th>nb_piece</th>\n",
       "      <th>nb_bains</th>\n",
       "    </tr>\n",
       "  </thead>\n",
       "  <tbody>\n",
       "    <tr>\n",
       "      <th>count</th>\n",
       "      <td>8.106000e+03</td>\n",
       "      <td>7.622000e+03</td>\n",
       "    </tr>\n",
       "    <tr>\n",
       "      <th>mean</th>\n",
       "      <td>1.216421e+04</td>\n",
       "      <td>2.587189e+04</td>\n",
       "    </tr>\n",
       "    <tr>\n",
       "      <th>std</th>\n",
       "      <td>5.922223e+05</td>\n",
       "      <td>1.221461e+06</td>\n",
       "    </tr>\n",
       "    <tr>\n",
       "      <th>min</th>\n",
       "      <td>0.000000e+00</td>\n",
       "      <td>0.000000e+00</td>\n",
       "    </tr>\n",
       "    <tr>\n",
       "      <th>25%</th>\n",
       "      <td>3.000000e+00</td>\n",
       "      <td>6.000000e+00</td>\n",
       "    </tr>\n",
       "    <tr>\n",
       "      <th>50%</th>\n",
       "      <td>6.000000e+00</td>\n",
       "      <td>1.200000e+01</td>\n",
       "    </tr>\n",
       "    <tr>\n",
       "      <th>75%</th>\n",
       "      <td>9.000000e+00</td>\n",
       "      <td>1.800000e+01</td>\n",
       "    </tr>\n",
       "    <tr>\n",
       "      <th>max</th>\n",
       "      <td>3.333333e+07</td>\n",
       "      <td>6.666667e+07</td>\n",
       "    </tr>\n",
       "  </tbody>\n",
       "</table>\n",
       "</div>"
      ],
      "text/plain": [
       "           nb_piece      nb_bains\n",
       "count  8.106000e+03  7.622000e+03\n",
       "mean   1.216421e+04  2.587189e+04\n",
       "std    5.922223e+05  1.221461e+06\n",
       "min    0.000000e+00  0.000000e+00\n",
       "25%    3.000000e+00  6.000000e+00\n",
       "50%    6.000000e+00  1.200000e+01\n",
       "75%    9.000000e+00  1.800000e+01\n",
       "max    3.333333e+07  6.666667e+07"
      ]
     },
     "execution_count": 82,
     "metadata": {},
     "output_type": "execute_result"
    }
   ],
   "source": [
    "df.describe()"
   ]
  },
  {
   "cell_type": "code",
   "execution_count": 83,
   "metadata": {},
   "outputs": [
    {
     "name": "stdout",
     "output_type": "stream",
     "text": [
      "<class 'pandas.core.frame.DataFrame'>\n",
      "RangeIndex: 9911 entries, 0 to 9910\n",
      "Data columns (total 5 columns):\n",
      " #   Column        Non-Null Count  Dtype  \n",
      "---  ------        --------------  -----  \n",
      " 0   Field1_links  9911 non-null   object \n",
      " 1   nb_piece      8106 non-null   float64\n",
      " 2   nb_bains      7622 non-null   float64\n",
      " 3   superficie    6302 non-null   object \n",
      " 4   adresse       9820 non-null   object \n",
      "dtypes: float64(2), object(3)\n",
      "memory usage: 387.3+ KB\n"
     ]
    }
   ],
   "source": [
    "df.info()"
   ]
  },
  {
   "cell_type": "code",
   "execution_count": 84,
   "metadata": {},
   "outputs": [],
   "source": [
    "df['superficie'] = (\n",
    "    df['superficie']\n",
    "    .str.strip()\n",
    "    .str.replace('m2', '', regex=False)\n",
    "    .str.replace(' ', '', regex=False)\n",
    ")\n",
    "df['superficie'] = df['superficie'].astype(float)"
   ]
  },
  {
   "cell_type": "code",
   "execution_count": 85,
   "metadata": {},
   "outputs": [
    {
     "data": {
      "text/plain": [
       "Field1_links     object\n",
       "nb_piece        float64\n",
       "nb_bains        float64\n",
       "superficie      float64\n",
       "adresse          object\n",
       "dtype: object"
      ]
     },
     "execution_count": 85,
     "metadata": {},
     "output_type": "execute_result"
    }
   ],
   "source": [
    "df.dtypes"
   ]
  },
  {
   "cell_type": "code",
   "execution_count": 86,
   "metadata": {},
   "outputs": [],
   "source": [
    "df['nb_piece']=df['nb_piece'].fillna(df['nb_piece'].mode()[0])"
   ]
  },
  {
   "cell_type": "code",
   "execution_count": 87,
   "metadata": {},
   "outputs": [],
   "source": [
    "df['nb_bains']=df['nb_bains'].fillna(df['nb_bains'].mode()[0])"
   ]
  },
  {
   "cell_type": "code",
   "execution_count": 88,
   "metadata": {},
   "outputs": [],
   "source": [
    "df['superficie']=df['superficie'].fillna(df['superficie'].mode()[0])"
   ]
  },
  {
   "cell_type": "code",
   "execution_count": 89,
   "metadata": {},
   "outputs": [
    {
     "data": {
      "text/html": [
       "<div>\n",
       "<style scoped>\n",
       "    .dataframe tbody tr th:only-of-type {\n",
       "        vertical-align: middle;\n",
       "    }\n",
       "\n",
       "    .dataframe tbody tr th {\n",
       "        vertical-align: top;\n",
       "    }\n",
       "\n",
       "    .dataframe thead th {\n",
       "        text-align: right;\n",
       "    }\n",
       "</style>\n",
       "<table border=\"1\" class=\"dataframe\">\n",
       "  <thead>\n",
       "    <tr style=\"text-align: right;\">\n",
       "      <th></th>\n",
       "      <th>Field1_links</th>\n",
       "      <th>nb_piece</th>\n",
       "      <th>nb_bains</th>\n",
       "      <th>superficie</th>\n",
       "      <th>adresse</th>\n",
       "    </tr>\n",
       "  </thead>\n",
       "  <tbody>\n",
       "    <tr>\n",
       "      <th>0</th>\n",
       "      <td>https://sn.coinafrique.com/annonce/villas/vent...</td>\n",
       "      <td>3.0</td>\n",
       "      <td>6.0</td>\n",
       "      <td>150.0</td>\n",
       "      <td>Pikine, Sénégal</td>\n",
       "    </tr>\n",
       "    <tr>\n",
       "      <th>1</th>\n",
       "      <td>https://sn.coinafrique.com/annonce/villas/vent...</td>\n",
       "      <td>6.0</td>\n",
       "      <td>12.0</td>\n",
       "      <td>150.0</td>\n",
       "      <td>Grand Yoff, Dakar, Sénégal</td>\n",
       "    </tr>\n",
       "    <tr>\n",
       "      <th>2</th>\n",
       "      <td>https://sn.coinafrique.com/annonce/villas/vent...</td>\n",
       "      <td>6.0</td>\n",
       "      <td>12.0</td>\n",
       "      <td>240.0</td>\n",
       "      <td>Guediawaye, Dakar, Sénégal</td>\n",
       "    </tr>\n",
       "    <tr>\n",
       "      <th>3</th>\n",
       "      <td>https://sn.coinafrique.com/annonce/villas/loca...</td>\n",
       "      <td>3.0</td>\n",
       "      <td>6.0</td>\n",
       "      <td>150.0</td>\n",
       "      <td>Mbao, Dakar, Sénégal</td>\n",
       "    </tr>\n",
       "    <tr>\n",
       "      <th>4</th>\n",
       "      <td>https://sn.coinafrique.com/annonce/villas/loca...</td>\n",
       "      <td>9.0</td>\n",
       "      <td>18.0</td>\n",
       "      <td>300.0</td>\n",
       "      <td>Saly, Sénégal</td>\n",
       "    </tr>\n",
       "    <tr>\n",
       "      <th>5</th>\n",
       "      <td>https://sn.coinafrique.com/annonce/villas/vent...</td>\n",
       "      <td>3.0</td>\n",
       "      <td>6.0</td>\n",
       "      <td>150.0</td>\n",
       "      <td>Dakar, Sénégal</td>\n",
       "    </tr>\n",
       "    <tr>\n",
       "      <th>6</th>\n",
       "      <td>https://sn.coinafrique.com/annonce/villas/loca...</td>\n",
       "      <td>6.0</td>\n",
       "      <td>12.0</td>\n",
       "      <td>150.0</td>\n",
       "      <td>Sipres, Dakar, Sénégal</td>\n",
       "    </tr>\n",
       "    <tr>\n",
       "      <th>7</th>\n",
       "      <td>https://sn.coinafrique.com/annonce/villas/vent...</td>\n",
       "      <td>6.0</td>\n",
       "      <td>12.0</td>\n",
       "      <td>150.0</td>\n",
       "      <td>Diamniadio, Sénégal</td>\n",
       "    </tr>\n",
       "    <tr>\n",
       "      <th>8</th>\n",
       "      <td>https://sn.coinafrique.com/annonce/villas/vent...</td>\n",
       "      <td>21.0</td>\n",
       "      <td>12.0</td>\n",
       "      <td>782.0</td>\n",
       "      <td>Mermoz-Sacré Coeur, Dakar, Sénégal</td>\n",
       "    </tr>\n",
       "    <tr>\n",
       "      <th>9</th>\n",
       "      <td>https://sn.coinafrique.com/annonce/villas/vent...</td>\n",
       "      <td>21.0</td>\n",
       "      <td>42.0</td>\n",
       "      <td>782.0</td>\n",
       "      <td>Mermoz-Sacré Coeur, Dakar, Sénégal</td>\n",
       "    </tr>\n",
       "  </tbody>\n",
       "</table>\n",
       "</div>"
      ],
      "text/plain": [
       "                                        Field1_links  nb_piece  nb_bains  \\\n",
       "0  https://sn.coinafrique.com/annonce/villas/vent...       3.0       6.0   \n",
       "1  https://sn.coinafrique.com/annonce/villas/vent...       6.0      12.0   \n",
       "2  https://sn.coinafrique.com/annonce/villas/vent...       6.0      12.0   \n",
       "3  https://sn.coinafrique.com/annonce/villas/loca...       3.0       6.0   \n",
       "4  https://sn.coinafrique.com/annonce/villas/loca...       9.0      18.0   \n",
       "5  https://sn.coinafrique.com/annonce/villas/vent...       3.0       6.0   \n",
       "6  https://sn.coinafrique.com/annonce/villas/loca...       6.0      12.0   \n",
       "7  https://sn.coinafrique.com/annonce/villas/vent...       6.0      12.0   \n",
       "8  https://sn.coinafrique.com/annonce/villas/vent...      21.0      12.0   \n",
       "9  https://sn.coinafrique.com/annonce/villas/vent...      21.0      42.0   \n",
       "\n",
       "   superficie                             adresse  \n",
       "0       150.0                     Pikine, Sénégal  \n",
       "1       150.0          Grand Yoff, Dakar, Sénégal  \n",
       "2       240.0          Guediawaye, Dakar, Sénégal  \n",
       "3       150.0                Mbao, Dakar, Sénégal  \n",
       "4       300.0                       Saly, Sénégal  \n",
       "5       150.0                      Dakar, Sénégal  \n",
       "6       150.0              Sipres, Dakar, Sénégal  \n",
       "7       150.0                 Diamniadio, Sénégal  \n",
       "8       782.0  Mermoz-Sacré Coeur, Dakar, Sénégal  \n",
       "9       782.0  Mermoz-Sacré Coeur, Dakar, Sénégal  "
      ]
     },
     "execution_count": 89,
     "metadata": {},
     "output_type": "execute_result"
    }
   ],
   "source": [
    "df.head(10)"
   ]
  },
  {
   "cell_type": "code",
   "execution_count": 90,
   "metadata": {},
   "outputs": [],
   "source": [
    "df.dropna(subset=['adresse'], inplace=True)"
   ]
  },
  {
   "cell_type": "code",
   "execution_count": 91,
   "metadata": {},
   "outputs": [
    {
     "name": "stdout",
     "output_type": "stream",
     "text": [
      "<class 'pandas.core.frame.DataFrame'>\n",
      "Index: 9820 entries, 0 to 9831\n",
      "Data columns (total 5 columns):\n",
      " #   Column        Non-Null Count  Dtype  \n",
      "---  ------        --------------  -----  \n",
      " 0   Field1_links  9820 non-null   object \n",
      " 1   nb_piece      9820 non-null   float64\n",
      " 2   nb_bains      9820 non-null   float64\n",
      " 3   superficie    9820 non-null   float64\n",
      " 4   adresse       9820 non-null   object \n",
      "dtypes: float64(3), object(2)\n",
      "memory usage: 460.3+ KB\n"
     ]
    }
   ],
   "source": [
    "df.info()"
   ]
  },
  {
   "cell_type": "code",
   "execution_count": 92,
   "metadata": {},
   "outputs": [],
   "source": [
    "val_num=df.select_dtypes(include=['float64']).columns"
   ]
  },
  {
   "cell_type": "code",
   "execution_count": 93,
   "metadata": {},
   "outputs": [],
   "source": [
    "import matplotlib.pyplot as plt\n",
    "import seaborn as sns"
   ]
  },
  {
   "cell_type": "code",
   "execution_count": 94,
   "metadata": {},
   "outputs": [
    {
     "data": {
      "image/png": "[encoded data removed]",
      "text/plain": [
       "<Figure size 800x600 with 1 Axes>"
      ]
     },
     "metadata": {},
     "output_type": "display_data"
    },
    {
     "data": {
      "image/png": "[encoded data removed]",
      "text/plain": [
       "<Figure size 800x600 with 1 Axes>"
      ]
     },
     "metadata": {},
     "output_type": "display_data"
    },
    {
     "data": {
      "image/png": "[encoded data removed]",
      "text/plain": [
       "<Figure size 800x600 with 1 Axes>"
      ]
     },
     "metadata": {},
     "output_type": "display_data"
    }
   ],
   "source": [
    "for col in val_num:\n",
    "    plt.figure(figsize=(8,6))\n",
    "    sns.boxplot(y=df[col])\n",
    "    plt.title(f\"Distribution du {col}\")\n",
    "    plt.ylabel(f\"{col}\")\n",
    "    plt.show()"
   ]
  },
  {
   "cell_type": "code",
   "execution_count": 95,
   "metadata": {},
   "outputs": [],
   "source": [
    "#gestion des valeurs abherrantes\n",
    "def remove_outliers(df, column):\n",
    "    Q1 = df[column].quantile(0.25)\n",
    "    Q3 = df[column].quantile(0.75)\n",
    "    IQR = Q3 - Q1\n",
    "    return df[~((df[column] < (Q1 - 1.5 * IQR)) | (df[column] > (Q3 + 1.5 * IQR)))]\n",
    "\n",
    "\n",
    "for col in val_num:\n",
    "    df= remove_outliers(df, col)"
   ]
  },
  {
   "cell_type": "code",
   "execution_count": 96,
   "metadata": {},
   "outputs": [
    {
     "data": {
      "image/png": "[encoded data removed]",
      "text/plain": [
       "<Figure size 800x600 with 1 Axes>"
      ]
     },
     "metadata": {},
     "output_type": "display_data"
    },
    {
     "data": {
      "image/png": "[encoded data removed]",
      "text/plain": [
       "<Figure size 800x600 with 1 Axes>"
      ]
     },
     "metadata": {},
     "output_type": "display_data"
    },
    {
     "data": {
      "image/png": "[encoded data removed]",
      "text/plain": [
       "<Figure size 800x600 with 1 Axes>"
      ]
     },
     "metadata": {},
     "output_type": "display_data"
    }
   ],
   "source": [
    "for col in val_num:\n",
    "    plt.figure(figsize=(8,6))\n",
    "    sns.boxplot(y=df[col])\n",
    "    plt.title(f\"Distribution du {col}\")\n",
    "    plt.ylabel(f\"{col}\")\n",
    "    plt.show()"
   ]
  },
  {
   "cell_type": "code",
   "execution_count": 97,
   "metadata": {},
   "outputs": [],
   "source": [
    "df.to_csv('villas_web_cleaned.csv', index=False)"
   ]
  }
 ],
 "metadata": {
  "kernelspec": {
   "display_name": "Python 3",
   "language": "python",
   "name": "python3"
  },
  "language_info": {
   "codemirror_mode": {
    "name": "ipython",
    "version": 3
   },
   "file_extension": ".py",
   "mimetype": "text/x-python",
   "name": "python",
   "nbconvert_exporter": "python",
   "pygments_lexer": "ipython3",
   "version": "3.12.3"
  }
 },
 "nbformat": 4,
 "nbformat_minor": 2
}
